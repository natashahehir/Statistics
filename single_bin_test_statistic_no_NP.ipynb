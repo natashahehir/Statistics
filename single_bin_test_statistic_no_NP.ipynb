{
 "cells": [
  {
   "cell_type": "code",
   "execution_count": 1,
   "metadata": {},
   "outputs": [],
   "source": [
    "import numpy as np\n",
    "import scipy as scipy\n",
    "from scipy.stats import norm\n",
    "from scipy.stats import poisson\n",
    "from scipy.optimize import minimize\n",
    "import matplotlib.pyplot as plt\n",
    "import random"
   ]
  },
  {
   "cell_type": "markdown",
   "metadata": {},
   "source": [
    "Try creating a model from scratch, which has a single bin with known background (say b=100), and an unknown signal. The observed number of events N_obs is Poisson distributed, N_obs ~ Poi(lambda), where lambda=mu*s0+b, with `mu` the signal strength parameter and signal reference value of s0=1.\n",
    "Using 1000 simulated events with b=100 and s=0:\n",
    "- Create the distribution of muhat\n",
    "- Create the distribution of the likelihood assuming mu=0\n",
    "- Create the distribution of the test statistic t=-2ln(L(mu)/L(muhat)), with mu=0\n",
    "\n",
    "If you still have time then:\n",
    "- try derive the 95% two-sided confidence intervals for mu"
   ]
  },
  {
   "cell_type": "code",
   "execution_count": 2,
   "metadata": {},
   "outputs": [],
   "source": [
    "data_samples = 1000\n",
    "s0 = 1     #nominal signal events = 1"
   ]
  },
  {
   "cell_type": "code",
   "execution_count": 3,
   "metadata": {},
   "outputs": [],
   "source": [
    "background   = 100.0   \n",
    "signal   = 0.0  \n",
    "events = background + signal  \n",
    "mu    = signal/s0  \n",
    "\n",
    "lam = mu * s0 + background\n",
    "observed = poisson.rvs(mu=lam, loc=0.0, size=data_samples)"
   ]
  },
  {
   "cell_type": "code",
   "execution_count": 4,
   "metadata": {},
   "outputs": [],
   "source": [
    "def likelihood(mu, n, background):\n",
    "    s0 = 1.0\n",
    "    signal = mu * s0\n",
    "    expected_events = signal + background\n",
    "    likelihood = poisson.pmf(n, mu=events)\n",
    "    return likelihood"
   ]
  },
  {
   "cell_type": "code",
   "execution_count": 5,
   "metadata": {},
   "outputs": [],
   "source": [
    "def log_likelihood(mu, n,background):\n",
    "    s0 = 1\n",
    "    signal = mu * s0\n",
    "    expected_events = signal + background\n",
    "    log_likelihood = poisson.logpmf(n, mu=expected_events)\n",
    "    return log_likelihood"
   ]
  },
  {
   "cell_type": "code",
   "execution_count": 6,
   "metadata": {},
   "outputs": [],
   "source": [
    "def log_l_free(x, n, background):\n",
    "    s0 =1\n",
    "    mu   = x\n",
    "    log_likelihood_free = log_likelihood(mu, n, background)\n",
    "    return log_likelihood_free"
   ]
  },
  {
   "cell_type": "code",
   "execution_count": 7,
   "metadata": {},
   "outputs": [],
   "source": [
    "def neg_log_l_free(x, n, background):\n",
    "    mu   = x\n",
    "    log_likelihood_free = log_likelihood(mu, n, background)\n",
    "    return -log_likelihood_free"
   ]
  },
  {
   "cell_type": "code",
   "execution_count": 8,
   "metadata": {},
   "outputs": [],
   "source": [
    "def maximise_LL(n, mu):\n",
    "    \n",
    "    fit_result_free = minimize(neg_log_l_free, x0=[1.0], args=(n,background), method='Nelder-Mead')\n",
    "    \n",
    "    LL_free = -fit_result_free['fun'] \n",
    "    parameter_MLE_free = fit_result_free['x']\n",
    "    mu_fit_free = parameter_MLE_free[0]\n",
    "\n",
    "    return (LL_free, mu_fit_free)"
   ]
  },
  {
   "cell_type": "code",
   "execution_count": 9,
   "metadata": {},
   "outputs": [],
   "source": [
    "max_LL_results = [maximise_LL(n, mu=mu) for n in observed]\n",
    "max_LL_results = np.array(max_LL_results)"
   ]
  },
  {
   "cell_type": "code",
   "execution_count": 10,
   "metadata": {},
   "outputs": [],
   "source": [
    "LL_cond = log_likelihood(0,observed,background)"
   ]
  },
  {
   "cell_type": "markdown",
   "metadata": {},
   "source": [
    "Log likelihood distribution for mu hat"
   ]
  },
  {
   "cell_type": "code",
   "execution_count": 11,
   "metadata": {},
   "outputs": [
    {
     "data": {
      "text/plain": [
       "Text(0.5,0,'LL free')"
      ]
     },
     "execution_count": 11,
     "metadata": {},
     "output_type": "execute_result"
    },
    {
     "data": {
      "image/png": "[encoded data removed]",
      "text/plain": [
       "<Figure size 432x288 with 1 Axes>"
      ]
     },
     "metadata": {
      "needs_background": "light"
     },
     "output_type": "display_data"
    }
   ],
   "source": [
    "f,a = plt.subplots()\n",
    "a.hist(max_LL_results[:,0], bins=20, alpha=0.4)\n",
    "a.set_xlabel(\"LL free\")"
   ]
  },
  {
   "cell_type": "markdown",
   "metadata": {},
   "source": [
    "log likelihood distribution for mu =0 "
   ]
  },
  {
   "cell_type": "code",
   "execution_count": 12,
   "metadata": {},
   "outputs": [
    {
     "data": {
      "text/plain": [
       "Text(0.5,0,'LL cond')"
      ]
     },
     "execution_count": 12,
     "metadata": {},
     "output_type": "execute_result"
    },
    {
     "data": {
      "image/png": "[encoded data removed]",
      "text/plain": [
       "<Figure size 432x288 with 1 Axes>"
      ]
     },
     "metadata": {
      "needs_background": "light"
     },
     "output_type": "display_data"
    }
   ],
   "source": [
    "f,a = plt.subplots()\n",
    "a.hist(LL_cond, bins=20, alpha=0.4)\n",
    "a.set_xlabel(\"LL cond\")\n"
   ]
  },
  {
   "cell_type": "code",
   "execution_count": 13,
   "metadata": {},
   "outputs": [
    {
     "data": {
      "text/plain": [
       "Text(0.5,0,'$mu hat$')"
      ]
     },
     "execution_count": 13,
     "metadata": {},
     "output_type": "execute_result"
    },
    {
     "data": {
      "image/png": "[encoded data removed]",
      "text/plain": [
       "<Figure size 432x288 with 1 Axes>"
      ]
     },
     "metadata": {
      "needs_background": "light"
     },
     "output_type": "display_data"
    }
   ],
   "source": [
    "f,a = plt.subplots()\n",
    "a.hist(max_LL_results[:,1], bins=20, alpha=0.4)\n",
    "a.set_xlabel(\"$mu hat$\")\n"
   ]
  },
  {
   "cell_type": "code",
   "execution_count": 14,
   "metadata": {},
   "outputs": [],
   "source": [
    "LL_free = max_LL_results[:,0]\n",
    "t = -2.0*(LL_cond - LL_free) "
   ]
  },
  {
   "cell_type": "code",
   "execution_count": 15,
   "metadata": {},
   "outputs": [
    {
     "data": {
      "text/plain": [
       "<matplotlib.legend.Legend at 0x24bd6394d68>"
      ]
     },
     "execution_count": 15,
     "metadata": {},
     "output_type": "execute_result"
    },
    {
     "data": {
      "image/png": "[encoded data removed]",
      "text/plain": [
       "<Figure size 432x288 with 1 Axes>"
      ]
     },
     "metadata": {
      "needs_background": "light"
     },
     "output_type": "display_data"
    }
   ],
   "source": [
    "f,a = plt.subplots()\n",
    "a.hist(LL_free, bins=20, alpha=0.4, label='LLR free')\n",
    "a.hist(LL_cond, bins=20, alpha=0.4, label='LLR cond')\n",
    "a.set_xlabel('LL dist')\n",
    "a.legend()"
   ]
  },
  {
   "cell_type": "code",
   "execution_count": 16,
   "metadata": {},
   "outputs": [
    {
     "data": {
      "text/plain": [
       "Text(0.5,0,'$t$')"
      ]
     },
     "execution_count": 16,
     "metadata": {},
     "output_type": "execute_result"
    },
    {
     "data": {
      "image/png": "[encoded data removed]",
      "text/plain": [
       "<Figure size 432x288 with 1 Axes>"
      ]
     },
     "metadata": {
      "needs_background": "light"
     },
     "output_type": "display_data"
    }
   ],
   "source": [
    "f,a = plt.subplots()\n",
    "a.hist(t, bins=20, alpha=0.4)\n",
    "a.set_xlabel(\"$t$\")\n"
   ]
  },
  {
   "cell_type": "markdown",
   "metadata": {},
   "source": [
    "Upper limits for mu "
   ]
  },
  {
   "cell_type": "code",
   "execution_count": 17,
   "metadata": {},
   "outputs": [],
   "source": [
    "def mean_confidence_interval(data, confidence=0.95):\n",
    "    a = 1.0 * np.array(data)\n",
    "    n = len(a)\n",
    "    m = np.mean(a)\n",
    "    err = scipy.stats.sem(a)\n",
    "    h = err * scipy.stats.t.ppf((1 + confidence) / 2., n-1)\n",
    "    return m, m-h, m+h"
   ]
  },
  {
   "cell_type": "code",
   "execution_count": 18,
   "metadata": {},
   "outputs": [
    {
     "data": {
      "text/plain": [
       "(-0.2329999999999962, -0.8503230402441861, 0.3843230402441937)"
      ]
     },
     "execution_count": 18,
     "metadata": {},
     "output_type": "execute_result"
    }
   ],
   "source": [
    "mean_confidence_interval(max_LL_results[:,1], 0.95)"
   ]
  }
 ],
 "metadata": {
  "kernelspec": {
   "display_name": "Python 3",
   "language": "python",
   "name": "python3"
  },
  "language_info": {
   "codemirror_mode": {
    "name": "ipython",
    "version": 3
   },
   "file_extension": ".py",
   "mimetype": "text/x-python",
   "name": "python",
   "nbconvert_exporter": "python",
   "pygments_lexer": "ipython3",
   "version": "3.7.0"
  }
 },
 "nbformat": 4,
 "nbformat_minor": 2
}
