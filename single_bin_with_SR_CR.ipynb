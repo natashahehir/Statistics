{
 "cells": [
  {
   "cell_type": "code",
   "execution_count": 1,
   "metadata": {},
   "outputs": [],
   "source": [
    "import numpy as np\n",
    "import scipy as scipy\n",
    "from scipy.stats import norm\n",
    "from scipy.stats import poisson\n",
    "from scipy.optimize import minimize\n",
    "import matplotlib.pyplot as plt\n",
    "import random\n",
    "import statistics"
   ]
  },
  {
   "cell_type": "markdown",
   "metadata": {},
   "source": [
    "Toy model with two hypotheses"
   ]
  },
  {
   "cell_type": "markdown",
   "metadata": {},
   "source": [
    "This example uses:  \n",
    "H0: background only   \n",
    "H1: signal + background  \n",
    "(used for discovery)              \n",
    "              \n",
    "For upper limit setting:  \n",
    "H0: signal + background  \n",
    "H1: background only  \n",
    "              \n",
    "              \n",
    "**Test statistic**  \n",
    "\n",
    "$ t= -2 ln(\\frac{\\mathscr{L}(\\mu, \\hat{\\hat{\\nu}})}{\\mathscr{L}(\\hat{\\mu}, \\hat{\\nu})}) $\n",
    "\n",
    "**Parameters**  \n",
    "\n",
    "$\\theta = (\\mu,b_{CR})$  \n",
    "POI: $\\mu$ : signal strength parameter  \n",
    "NP: $b_{CR}$ background in the control region  \n",
    "\n",
    "\n",
    "\n",
    "**Profile likelihood ratio**  \n",
    "\n",
    "\n",
    "- $\\lambda(\\mu) = \\frac{\\mathscr{L}(\\mu, \\hat{\\hat{\\nu}})}{\\mathscr{L}(\\hat{\\mu}, \\hat{\\nu})}$\n",
    "\n",
    "\n",
    "- $\\mu$: hypothesized value chosen.  \n",
    "\n",
    "\n",
    "- $\\hat{\\mu}$: Maximum likelihood estimator (MLE) for $\\mu$ - depends on observed data and is chosen such that the likelihood is maximised.  \n",
    "\n",
    "\n",
    "- $\\hat{\\hat{\\nu}}$: conditional maximum likelihood estimator for $\\nu$, depends on chosen $\\mu$ and observed data - maximises $\\mathscr{L}$ for that specific $\\mu$.  \n",
    "\n",
    "\n",
    "- $\\hat{\\nu}$: MLE from data.  \n",
    "\n",
    "\n",
    "- $\\mathscr{L}(\\mu,\\mathbf{\\nu})= \\mathscr{L}(SR) x \\mathscr{L}(CR)$  \n",
    "\n",
    "\n",
    "- $\\frac{\\partial{\\mathscr{L}(\\mu,\\nu)}}{\\partial{\\nu}} = 0$: gives the ML estimators.  "
   ]
  },
  {
   "cell_type": "code",
   "execution_count": 2,
   "metadata": {},
   "outputs": [],
   "source": [
    "experiments = 1000\n",
    "s0 = 1     #number of signal events in a nominal signal model\n",
    "r = 0.2\n",
    "#bkg_CR = r * bkg_SR"
   ]
  },
  {
   "cell_type": "markdown",
   "metadata": {},
   "source": [
    "If your aim is to build a measurement setup that is as much sensitive to signal as possible, but your signal region you always have some background that you cannot get rid of, then ideally (if possible)\n",
    "- you identify a new data category (using different cuts on kinematical variables, etc.), let's call it CR, in which there is no signal, but a (!)plenty of background events(!)\n",
    "- you have a rather precise relation between the # bkgr events in CR and # bkgr events in SR\n",
    "then you can constrain the bkgr in the SR"
   ]
  },
  {
   "cell_type": "markdown",
   "metadata": {},
   "source": [
    "H0: Bkg"
   ]
  },
  {
   "cell_type": "code",
   "execution_count": 3,
   "metadata": {},
   "outputs": [],
   "source": [
    "## control region ##\n",
    "background_CR_H0   = 5000.0 \n",
    "signal_CR_H0   =  0.0  \n",
    "events_CR_H0 = background_CR_H0 + signal_CR_H0\n",
    "mu_CR_H0    = signal_CR_H0/s0   #expected POI for H0 CR\n",
    "lam_CR_H0 = mu_CR_H0 * s0 + background_CR_H0\n",
    "observed_events_CR_H0 = poisson.rvs(mu=lam_CR_H0, loc=0.0, size=experiments)\n",
    "\n",
    "## signal region ##\n",
    "background_SR_H0  = r * background_CR_H0\n",
    "signal_SR_H0   =  0.0  \n",
    "events_SR_H0 = background_SR_H0 + signal_SR_H0 \n",
    "mu_SR_H0    = signal_SR_H0/s0   #expected POI for H0 SR\n",
    "lam_SR_H0 = mu_SR_H0 * s0 + background_SR_H0\n",
    "observed_events_SR_H0 = poisson.rvs(mu=lam_SR_H0, loc=0.0, size=experiments)"
   ]
  },
  {
   "cell_type": "markdown",
   "metadata": {},
   "source": [
    "H1: sig + bkg"
   ]
  },
  {
   "cell_type": "code",
   "execution_count": 4,
   "metadata": {},
   "outputs": [],
   "source": [
    "## control region ##\n",
    "background_CR_H1   = 5000.0  #expected bkg in CR\n",
    "signal_CR_H1 = 0.0    #expected signal in CR\n",
    "events_CR_H1 = background_CR_H1 + signal_CR_H1    #expected events in control region\n",
    "mu_CR_H1 = signal_CR_H1/s0\n",
    "lam_CR_H1 = mu_CR_H1 * s0 + background_CR_H1   # = bkg_CR_H0\n",
    "observed_events_CR_H1 = poisson.rvs(mu = lam_CR_H1, loc=0.0, size=experiments)\n",
    "\n",
    "## signal region ##\n",
    "background_SR_H1 = r * background_CR_H1\n",
    "signal_SR_H1 = 50.0\n",
    "#signal_SR_H1   =  random.randint(0,50)   #for unknown signal sig - random  \n",
    "events_SR_H1 = background_SR_H1 + signal_SR_H1    #total expected events in SR\n",
    "mu_SR_H1 = signal_SR_H1/s0   #expected POI for H1 SR\n",
    "lam_SR_H1 = mu_SR_H1 * s0 + background_SR_H1\n",
    "observed_events_SR_H1 = poisson.rvs(mu=lam_SR_H1, loc=0.0, size=experiments)\n"
   ]
  },
  {
   "cell_type": "code",
   "execution_count": 5,
   "metadata": {},
   "outputs": [
    {
     "data": {
      "text/plain": [
       "Text(0,0.5,'Frequency')"
      ]
     },
     "execution_count": 5,
     "metadata": {},
     "output_type": "execute_result"
    },
    {
     "data": {
      "image/png": "[encoded data removed]",
      "text/plain": [
       "<Figure size 576x720 with 2 Axes>"
      ]
     },
     "metadata": {
      "needs_background": "light"
     },
     "output_type": "display_data"
    }
   ],
   "source": [
    "f, a= plt.subplots(nrows=2, figsize=(8,10))\n",
    "a = a.flatten()\n",
    "a[0].hist(observed_events_SR_H0, bins=20, color='b', alpha=0.5, label=r'$H_{0}$')\n",
    "a[0].hist(observed_events_SR_H1, bins=20, color='r', alpha=0.5, label=r'$H_{1}$')\n",
    "a[0].set_title(\"Signal region\")\n",
    "a[0].set_xlabel(\"Number of events observed\")\n",
    "a[0].set_ylabel(\"Frequency\")\n",
    "a[0].legend()\n",
    "a[1].hist(observed_events_CR_H0, bins=20, color='r', alpha=0.5, label=r'$H_{0}$');\n",
    "a[1].hist(observed_events_CR_H1, bins=20, color='b', alpha=0.5, label=r'$H_{1}$');\n",
    "a[1].set_title(\"Control region\")\n",
    "a[1].legend()\n",
    "a[1].set_xlabel(\"Number of events observed\")\n",
    "a[1].set_ylabel(\"Frequency\")"
   ]
  },
  {
   "cell_type": "code",
   "execution_count": 6,
   "metadata": {},
   "outputs": [
    {
     "name": "stdout",
     "output_type": "stream",
     "text": [
      "1050 1000 4996 1000\n"
     ]
    }
   ],
   "source": [
    "m_SR_H1 = statistics.mean(observed_events_SR_H1)\n",
    "m_SR_H0 = statistics.mean(observed_events_SR_H0)\n",
    "m_CR_H1 = statistics.mean(observed_events_CR_H1)\n",
    "m_CR_H0 = statistics.mean(observed_events_CR_H0)\n",
    "\n",
    "print(m_SR_H1,m_SR_H0,m_CR_H1,m_SR_H0)"
   ]
  },
  {
   "cell_type": "code",
   "execution_count": 7,
   "metadata": {},
   "outputs": [],
   "source": [
    "def likelihood(mu, n, background):\n",
    "    s0 = 1.0\n",
    "    signal = mu * s0\n",
    "    expected_events = signal + background\n",
    "    likelihood = poisson.pmf(n, mu=expected_events)\n",
    "    return likelihood"
   ]
  },
  {
   "cell_type": "code",
   "execution_count": 8,
   "metadata": {},
   "outputs": [],
   "source": [
    "def log_likelihood(mu, n, background):\n",
    "\n",
    "    #log_likelihood = poisson.logpmf(n, muz)  \n",
    "    \n",
    "    l = likelihood(mu,n,background)\n",
    "    log_l = np.log(l)\n",
    "    return log_l"
   ]
  },
  {
   "cell_type": "code",
   "execution_count": 9,
   "metadata": {},
   "outputs": [],
   "source": [
    "## L_model = L(SR) * L(CR)\n",
    "## ln L_model = ln(L(SR)*L(CR)) = ln(L(SR)) + ln(L(CR))\n",
    "\n",
    "def model_log_likelihood(mu, bkg_CR, SR_events, CR_events):\n",
    "    bkg_SR = bkg_CR * r\n",
    "    ll_SR = log_likelihood(mu = mu, n = SR_events, background = bkg_SR)\n",
    "    #ll_CR = log_likelihood(mu = bkg_CR, n = CR_events, background = bkg_CR)\n",
    "    ll_CR = poisson.logpmf(CR_events, mu = bkg_CR)\n",
    "    return ll_SR+ll_CR"
   ]
  },
  {
   "cell_type": "code",
   "execution_count": 10,
   "metadata": {},
   "outputs": [],
   "source": [
    "def neg_log_l_free(x, SR_events, CR_events):\n",
    "    mu   = x[0]\n",
    "    background_CR = x[1]\n",
    "    log_likelihood_free = model_log_likelihood(mu, background_CR, SR_events, CR_events)\n",
    "    return -log_likelihood_free"
   ]
  },
  {
   "cell_type": "code",
   "execution_count": 11,
   "metadata": {},
   "outputs": [],
   "source": [
    "def neg_log_l_cond(x, mu, SR_events, CR_events):\n",
    "    background_CR = x\n",
    "    log_likelihood_cond = model_log_likelihood(mu, background_CR, SR_events, CR_events)\n",
    "    return -log_likelihood_cond"
   ]
  },
  {
   "cell_type": "code",
   "execution_count": 12,
   "metadata": {},
   "outputs": [],
   "source": [
    "def maximise_LL(SR_events,CR_events, mu):\n",
    "    \n",
    "    fit_result_free = minimize(neg_log_l_free, x0=[1.0, 5000.0], args=(SR_events,CR_events), method='Nelder-Mead') \n",
    "   \n",
    "    LL_free = -fit_result_free['fun'] \n",
    "    parameter_MLE_free = fit_result_free['x']\n",
    "    mu_fit_free = parameter_MLE_free[0]\n",
    "    bkg_CR_free = parameter_MLE_free[1]\n",
    "    \n",
    "    fit_result_cond = minimize(neg_log_l_cond, x0=[5000.0], args=(mu,SR_events,CR_events), method='Nelder-Mead') \n",
    "    LL_cond = -fit_result_cond['fun'] \n",
    "    parameter_MLE_cond = fit_result_cond['x']\n",
    "    bkg_CR_cond = parameter_MLE_cond\n",
    "\n",
    "    return (LL_free, mu_fit_free, bkg_CR_free, LL_cond, bkg_CR_cond)"
   ]
  },
  {
   "cell_type": "code",
   "execution_count": 13,
   "metadata": {},
   "outputs": [],
   "source": [
    "max_LL_results_H0 = [maximise_LL(SR,CR, mu = mu_SR_H0) for SR,CR in zip(observed_events_SR_H0,observed_events_CR_H0)]\n",
    "max_LL_results_H0 = np.array(max_LL_results_H0)\n",
    "max_LL_results_H1 = [maximise_LL(SR,CR, mu = mu_SR_H0) for SR,CR in zip(observed_events_SR_H1,observed_events_CR_H1)]\n",
    "max_LL_results_H1 = np.array(max_LL_results_H1)"
   ]
  },
  {
   "cell_type": "markdown",
   "metadata": {},
   "source": [
    "Distribution of LL_free and LL_cond for H0 and H1"
   ]
  },
  {
   "cell_type": "code",
   "execution_count": 14,
   "metadata": {},
   "outputs": [
    {
     "name": "stderr",
     "output_type": "stream",
     "text": [
      "C:\\Users\\Natasha\\Anaconda3\\lib\\site-packages\\matplotlib\\axes\\_axes.py:6571: UserWarning: The 'normed' kwarg is deprecated, and has been replaced by the 'density' kwarg.\n",
      "  warnings.warn(\"The 'normed' kwarg is deprecated, and has been \"\n"
     ]
    },
    {
     "data": {
      "text/plain": [
       "<matplotlib.legend.Legend at 0x2064a9a1f60>"
      ]
     },
     "execution_count": 14,
     "metadata": {},
     "output_type": "execute_result"
    },
    {
     "data": {
      "image/png": "[encoded data removed]",
      "text/plain": [
       "<Figure size 576x288 with 1 Axes>"
      ]
     },
     "metadata": {
      "needs_background": "light"
     },
     "output_type": "display_data"
    }
   ],
   "source": [
    "f,a = plt.subplots(figsize = (8,4))\n",
    "a.hist(max_LL_results_H0[:,0], bins=50, alpha=0.4, label = 'H0_free',normed = True)\n",
    "a.hist(max_LL_results_H0[:,3], bins=50, alpha=0.4, label='H0_cond', normed = True)\n",
    "a.set_xlim(-11, -9.5)\n",
    "a.set_xlabel(\"LL_free and LL_cond distribution for H0\")\n",
    "a.legend()"
   ]
  },
  {
   "cell_type": "code",
   "execution_count": 15,
   "metadata": {
    "scrolled": false
   },
   "outputs": [
    {
     "name": "stderr",
     "output_type": "stream",
     "text": [
      "C:\\Users\\Natasha\\Anaconda3\\lib\\site-packages\\matplotlib\\axes\\_axes.py:6571: UserWarning: The 'normed' kwarg is deprecated, and has been replaced by the 'density' kwarg.\n",
      "  warnings.warn(\"The 'normed' kwarg is deprecated, and has been \"\n"
     ]
    },
    {
     "data": {
      "text/plain": [
       "<matplotlib.legend.Legend at 0x2064a790550>"
      ]
     },
     "execution_count": 15,
     "metadata": {},
     "output_type": "execute_result"
    },
    {
     "data": {
      "image/png": "[encoded data removed]",
      "text/plain": [
       "<Figure size 576x288 with 1 Axes>"
      ]
     },
     "metadata": {
      "needs_background": "light"
     },
     "output_type": "display_data"
    }
   ],
   "source": [
    "f,a = plt.subplots(figsize = (8,4))\n",
    "a.hist(max_LL_results_H1[:,0], bins=50, alpha=0.4, label = 'H1_free',normed = True)\n",
    "a.hist(max_LL_results_H1[:,3], bins=50, alpha=0.4, label='H1_cond', normed = True)\n",
    "a.set_xlim(-11, -9.5)\n",
    "a.set_xlabel(\"LL distribution for H1\")\n",
    "a.legend()"
   ]
  },
  {
   "cell_type": "markdown",
   "metadata": {},
   "source": [
    "The unconditional mean is higher than the conditional as the both mu and bkg_CR are free to vary. There is still a spread in the unconditional mean as fluctuations in the number of events in the CR will cause mu_hat to fluctuate."
   ]
  },
  {
   "cell_type": "markdown",
   "metadata": {},
   "source": [
    "MLE mu_hat vs b_CR_hat distribution"
   ]
  },
  {
   "cell_type": "code",
   "execution_count": 16,
   "metadata": {},
   "outputs": [
    {
     "data": {
      "text/plain": [
       "Text(0.5,1,'Best fit $(\\\\hat{\\\\mu},\\\\hat{b}_{CR})$')"
      ]
     },
     "execution_count": 16,
     "metadata": {},
     "output_type": "execute_result"
    },
    {
     "data": {
      "image/png": "[encoded data removed]",
      "text/plain": [
       "<Figure size 432x288 with 1 Axes>"
      ]
     },
     "metadata": {
      "needs_background": "light"
     },
     "output_type": "display_data"
    }
   ],
   "source": [
    "f,ax = plt.subplots()\n",
    "ax.scatter(max_LL_results_H0[:,1], max_LL_results_H0[:,2], c='b', label=r\"H0\")\n",
    "ax.scatter(max_LL_results_H1[:,1], max_LL_results_H1[:,2], c='r', label=r\"H1\")\n",
    "ax.set_xlabel(r'$\\hat{\\mu}$')\n",
    "ax.set_ylabel(r'$\\hat{b}_{CR}$')\n",
    "ax.legend()\n",
    "ax.set_title(r\"Best fit $(\\hat{\\mu},\\hat{b}_{CR})$\")"
   ]
  },
  {
   "cell_type": "markdown",
   "metadata": {},
   "source": [
    "mu_hat gets smaller if you observe more background events in the control region but the same number of events in the signal region."
   ]
  },
  {
   "cell_type": "code",
   "execution_count": 17,
   "metadata": {},
   "outputs": [
    {
     "name": "stdout",
     "output_type": "stream",
     "text": [
      "0.08020000527576872 5001.119000420624 51.32980021563294 4996.595999696311\n"
     ]
    }
   ],
   "source": [
    "#Calculating the mean[]''\n",
    "m_mu_H0 = statistics.mean(max_LL_results_H0[:,1])\n",
    "m_bkgcr_H0 = statistics.mean(max_LL_results_H0[:,2])\n",
    "m_mu_H1 = statistics.mean(max_LL_results_H1[:,1])\n",
    "m_bkgcr_H1 = statistics.mean(max_LL_results_H1[:,2])\n",
    "\n",
    "print(m_mu_H0,m_bkgcr_H0,m_mu_H1,m_bkgcr_H1)"
   ]
  },
  {
   "cell_type": "markdown",
   "metadata": {},
   "source": [
    "Distribution for mu hat under H0 and H1"
   ]
  },
  {
   "cell_type": "code",
   "execution_count": 18,
   "metadata": {},
   "outputs": [
    {
     "data": {
      "text/plain": [
       "<matplotlib.legend.Legend at 0x2064a7e3dd8>"
      ]
     },
     "execution_count": 18,
     "metadata": {},
     "output_type": "execute_result"
    },
    {
     "data": {
      "image/png": "[encoded data removed]",
      "text/plain": [
       "<Figure size 432x288 with 1 Axes>"
      ]
     },
     "metadata": {
      "needs_background": "light"
     },
     "output_type": "display_data"
    }
   ],
   "source": [
    "f,a = plt.subplots()\n",
    "a.hist(max_LL_results_H0[:,1], bins=20, alpha=0.4 , label = \"H0_free\")\n",
    "a.hist(max_LL_results_H1[:,1], bins=20, alpha=0.4, label = \"H1_free\")\n",
    "a.set_xlabel(\"mu hat\")\n",
    "a.legend()"
   ]
  },
  {
   "cell_type": "markdown",
   "metadata": {},
   "source": [
    "Distribution of the test statistic"
   ]
  },
  {
   "cell_type": "code",
   "execution_count": 19,
   "metadata": {},
   "outputs": [],
   "source": [
    "LL_free_H0 = max_LL_results_H0[:,0]\n",
    "LL_free_H1 = max_LL_results_H1[:,0]\n",
    "LL_cond_H0 = max_LL_results_H0[:,3]\n",
    "LL_cond_H1 = max_LL_results_H1[:,3]\n",
    "\n",
    "t_H0 = -2.0*(LL_cond_H0 - LL_free_H0)\n",
    "t_H1 = -2.0*(LL_cond_H1 - LL_free_H1) "
   ]
  },
  {
   "cell_type": "markdown",
   "metadata": {},
   "source": [
    "Distribution of the test statistic."
   ]
  },
  {
   "cell_type": "code",
   "execution_count": 20,
   "metadata": {},
   "outputs": [
    {
     "data": {
      "text/plain": [
       "<matplotlib.legend.Legend at 0x2064a5e74a8>"
      ]
     },
     "execution_count": 20,
     "metadata": {},
     "output_type": "execute_result"
    },
    {
     "data": {
      "image/png": "[encoded data removed]",
      "text/plain": [
       "<Figure size 432x288 with 1 Axes>"
      ]
     },
     "metadata": {
      "needs_background": "light"
     },
     "output_type": "display_data"
    }
   ],
   "source": [
    "f,a = plt.subplots()\n",
    "a.hist(t_H0, bins=20, alpha=0.4, label='H0')\n",
    "a.hist(t_H1, bins=20, alpha=0.4, label='H1')\n",
    "a.set_xlabel(\"t\")\n",
    "a.legend()"
   ]
  },
  {
   "cell_type": "code",
   "execution_count": null,
   "metadata": {},
   "outputs": [],
   "source": [
    "f,a = plt.subplots()\n",
    "a.hist(t_H0, bins=20, alpha=0.4, label='H0')\n",
    "a.hist(t_H1, bins=20, alpha=0.4, label='H1')\n",
    "a.set_xlabel(\"t\")\n",
    "a.legend()"
   ]
  },
  {
   "cell_type": "markdown",
   "metadata": {},
   "source": [
    "Can compare t values to the distribution.\n",
    "e.g. for t value = 5, integrate the tail "
   ]
  },
  {
   "cell_type": "code",
   "execution_count": 35,
   "metadata": {},
   "outputs": [
    {
     "data": {
      "text/plain": [
       "Text(0.5,1,'Best fit $\\\\hat{\\\\mu},t$')"
      ]
     },
     "execution_count": 35,
     "metadata": {},
     "output_type": "execute_result"
    },
    {
     "data": {
      "image/png": "[encoded data removed]",
      "text/plain": [
       "<Figure size 432x288 with 1 Axes>"
      ]
     },
     "metadata": {
      "needs_background": "light"
     },
     "output_type": "display_data"
    }
   ],
   "source": [
    "f,ax = plt.subplots()\n",
    "ax.scatter(max_LL_results_H0[:,1],t_H0, c='b', label=r\"H0\")\n",
    "#ax.scatter(max_LL_results_H1[:,1],t_H1, c='r', label=r\"H1\")\n",
    "ax.set_xlabel(r'$\\hat{\\mu}$')\n",
    "ax.set_ylabel(r'$t$')\n",
    "ax.legend()\n",
    "ax.set_title(r\"Best fit $\\hat{\\mu},t$\")"
   ]
  },
  {
   "cell_type": "code",
   "execution_count": 34,
   "metadata": {},
   "outputs": [
    {
     "data": {
      "text/plain": [
       "Text(0.5,1,'Best fit $\\\\hat{\\\\mu},{t}$')"
      ]
     },
     "execution_count": 34,
     "metadata": {},
     "output_type": "execute_result"
    },
    {
     "data": {
      "image/png": "[encoded data removed]",
      "text/plain": [
       "<Figure size 432x288 with 1 Axes>"
      ]
     },
     "metadata": {
      "needs_background": "light"
     },
     "output_type": "display_data"
    }
   ],
   "source": [
    "f,ax = plt.subplots()\n",
    "#ax.scatter(max_LL_results_H0[:,1],t_H0, c='b', label=r\"H0\")\n",
    "ax.scatter(max_LL_results_H1[:,1],t_H1, c='r', label=r\"H1\")\n",
    "ax.set_xlabel(r'$\\hat{\\mu}$')\n",
    "ax.set_ylabel(r'$t$')\n",
    "ax.legend()\n",
    "ax.set_title(r\"Best fit $\\hat{\\mu},{t}$\")"
   ]
  },
  {
   "cell_type": "code",
   "execution_count": null,
   "metadata": {},
   "outputs": [],
   "source": []
  }
 ],
 "metadata": {
  "kernelspec": {
   "display_name": "Python 3",
   "language": "python",
   "name": "python3"
  },
  "language_info": {
   "codemirror_mode": {
    "name": "ipython",
    "version": 3
   },
   "file_extension": ".py",
   "mimetype": "text/x-python",
   "name": "python",
   "nbconvert_exporter": "python",
   "pygments_lexer": "ipython3",
   "version": "3.7.0"
  }
 },
 "nbformat": 4,
 "nbformat_minor": 2
}
