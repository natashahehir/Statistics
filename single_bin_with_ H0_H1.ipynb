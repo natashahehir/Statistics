{
 "cells": [
  {
   "cell_type": "code",
   "execution_count": 1,
   "metadata": {},
   "outputs": [],
   "source": [
    "import numpy as np\n",
    "import scipy as scipy\n",
    "from scipy.stats import norm\n",
    "from scipy.stats import poisson\n",
    "from scipy.optimize import minimize\n",
    "import matplotlib.pyplot as plt\n",
    "import random"
   ]
  },
  {
   "cell_type": "markdown",
   "metadata": {},
   "source": [
    "Two Hypotheses:\n",
    "\n",
    "H0: background + signal\n",
    "\n",
    "H1: background only\n"
   ]
  },
  {
   "cell_type": "code",
   "execution_count": 2,
   "metadata": {},
   "outputs": [],
   "source": [
    "data_samples = 1000\n",
    "s0 = 1     #nominal signal events = 1"
   ]
  },
  {
   "cell_type": "markdown",
   "metadata": {},
   "source": [
    "H0: sig + bkg"
   ]
  },
  {
   "cell_type": "code",
   "execution_count": 3,
   "metadata": {},
   "outputs": [],
   "source": [
    "background_H0   = 100.0    #expected bkg in signal region\n",
    "signal_H0   =  random.randint(0,100)   #unknown signal sig - random  \n",
    "events_H0 = background_H0 + signal_H0    #total expected events\n",
    "mu_H0    = signal_H0/s0   #expected POI\n",
    "\n",
    "lam = mu_H0 * s0 + background_H0\n",
    "\n",
    "observed_events_H0 = poisson.rvs(mu=lam, loc=0.0, size=data_samples)\n"
   ]
  },
  {
   "cell_type": "markdown",
   "metadata": {},
   "source": [
    "H1: bkg"
   ]
  },
  {
   "cell_type": "code",
   "execution_count": 4,
   "metadata": {},
   "outputs": [],
   "source": [
    "background_H1   = 100.0    #expected bkg in signal region\n",
    "signal_H1   =  0.0   #unknown signal sig in signal region\n",
    "events_H1 = background_H1 + signal_H1    #total expected events\n",
    "mu_H1    = signal_H1/s0   #expected POI\n",
    "\n",
    "lam_H1 = mu_H1 * s0 + background_H1\n",
    "\n",
    "observed_events_H1 = poisson.rvs(mu=lam_H1, loc=0.0, size=data_samples)"
   ]
  },
  {
   "cell_type": "code",
   "execution_count": 5,
   "metadata": {},
   "outputs": [],
   "source": [
    "def likelihood(mu, n, background):\n",
    "    s0 = 1.0\n",
    "    signal = mu * s0\n",
    "    expected_events = signal + background\n",
    "    likelihood = poisson.pmf(n, mu=expected_events)\n",
    "    return likelihood"
   ]
  },
  {
   "cell_type": "code",
   "execution_count": 6,
   "metadata": {},
   "outputs": [],
   "source": [
    "def log_likelihood(mu, n,background):\n",
    "    s0 = 1\n",
    "    signal = mu * s0\n",
    "    expected_events = signal + background\n",
    "    log_likelihood = poisson.logpmf(n, mu=expected_events)\n",
    "    return log_likelihood"
   ]
  },
  {
   "cell_type": "code",
   "execution_count": 7,
   "metadata": {},
   "outputs": [],
   "source": [
    "def log_l_free(x, n, background):\n",
    "    s0 =1\n",
    "    mu   = x\n",
    "    log_likelihood_free = log_likelihood(mu, n, background)\n",
    "    return log_likelihood_free"
   ]
  },
  {
   "cell_type": "code",
   "execution_count": 8,
   "metadata": {},
   "outputs": [],
   "source": [
    "def neg_log_l_cond(n, background):\n",
    "    mu   = 0\n",
    "    log_likelihood_cond = log_likelihood(mu, n, background)\n",
    "    return -log_likelihood_cond"
   ]
  },
  {
   "cell_type": "code",
   "execution_count": 9,
   "metadata": {},
   "outputs": [],
   "source": [
    "def neg_log_l_free(x, n, background):\n",
    "    mu   = x\n",
    "    # background = x[1]\n",
    "    log_likelihood_free = log_likelihood(mu, n, background)\n",
    "    return -log_likelihood_free"
   ]
  },
  {
   "cell_type": "code",
   "execution_count": 10,
   "metadata": {},
   "outputs": [],
   "source": [
    "def maximise_LL(n, background, mu):\n",
    "    \n",
    "    fit_result_free = minimize(neg_log_l_free, x0=[1.0], args=(n,background), method='Nelder-Mead') \n",
    "    LL_free = -fit_result_free['fun'] \n",
    "    parameter_MLE_free = fit_result_free['x']\n",
    "    mu_fit_free = parameter_MLE_free[0]\n",
    "\n",
    "    return (LL_free, mu_fit_free)"
   ]
  },
  {
   "cell_type": "code",
   "execution_count": 11,
   "metadata": {},
   "outputs": [],
   "source": [
    "LL_cond_H0= -(neg_log_l_cond(observed_events_H0,background_H0))\n",
    "LL_cond_H1 = -(neg_log_l_cond(observed_events_H1,background_H1)) "
   ]
  },
  {
   "cell_type": "code",
   "execution_count": 12,
   "metadata": {},
   "outputs": [],
   "source": [
    "max_LL_results_H0 = [maximise_LL(n, background_H0, mu=mu_H0) for n in observed_events_H0]\n",
    "max_LL_results_H0 = np.array(max_LL_results_H0)\n",
    "max_LL_results_H1 = [maximise_LL(n, background_H1, mu=mu_H0) for n in observed_events_H1]\n",
    "max_LL_results_H1 = np.array(max_LL_results_H1)"
   ]
  },
  {
   "cell_type": "code",
   "execution_count": 13,
   "metadata": {},
   "outputs": [
    {
     "data": {
      "text/plain": [
       "<matplotlib.legend.Legend at 0x287304efc50>"
      ]
     },
     "execution_count": 13,
     "metadata": {},
     "output_type": "execute_result"
    },
    {
     "data": {
      "image/png": "[encoded data removed]",
      "text/plain": [
       "<Figure size 432x288 with 1 Axes>"
      ]
     },
     "metadata": {
      "needs_background": "light"
     },
     "output_type": "display_data"
    }
   ],
   "source": [
    "f,a = plt.subplots()\n",
    "a.hist(max_LL_results_H0[:,0], bins=20, alpha=0.4, label = 'H0_free')\n",
    "a.hist(LL_cond_H0, bins=20, alpha=0.4, label='H0_cond')\n",
    "a.set_xlabel(\"LL distribution\")\n",
    "a.legend()"
   ]
  },
  {
   "cell_type": "code",
   "execution_count": 14,
   "metadata": {},
   "outputs": [
    {
     "data": {
      "text/plain": [
       "<matplotlib.legend.Legend at 0x287305fe6a0>"
      ]
     },
     "execution_count": 14,
     "metadata": {},
     "output_type": "execute_result"
    },
    {
     "data": {
      "image/png": "[encoded data removed]",
      "text/plain": [
       "<Figure size 432x288 with 1 Axes>"
      ]
     },
     "metadata": {
      "needs_background": "light"
     },
     "output_type": "display_data"
    }
   ],
   "source": [
    "f,a = plt.subplots()\n",
    "a.hist(max_LL_results_H1[:,0], bins=20, alpha=0.4 , label = \"H1_free\")\n",
    "a.hist(LL_cond_H1, bins=20, alpha=0.4, label = \"H1_cond\")\n",
    "a.set_xlabel(\"LL distribution\")\n",
    "a.legend()"
   ]
  },
  {
   "cell_type": "code",
   "execution_count": 15,
   "metadata": {},
   "outputs": [
    {
     "data": {
      "text/plain": [
       "<matplotlib.legend.Legend at 0x287306b6e80>"
      ]
     },
     "execution_count": 15,
     "metadata": {},
     "output_type": "execute_result"
    },
    {
     "data": {
      "image/png": "[encoded data removed]",
      "text/plain": [
       "<Figure size 432x288 with 1 Axes>"
      ]
     },
     "metadata": {
      "needs_background": "light"
     },
     "output_type": "display_data"
    }
   ],
   "source": [
    "f,a = plt.subplots()\n",
    "a.hist(max_LL_results_H0[:,1], bins=20, alpha=0.4, label = 'H0')\n",
    "a.hist(max_LL_results_H1[:,1], bins=20, alpha=0.4, label = 'H1')\n",
    "a.set_xlabel(\"$mu hat$\")\n",
    "a.legend()"
   ]
  },
  {
   "cell_type": "code",
   "execution_count": 16,
   "metadata": {},
   "outputs": [],
   "source": [
    "LL_free_H0 = max_LL_results_H0[:,0]\n",
    "LL_free_H1 = max_LL_results_H1[:,0]\n",
    "t_H0 = -2.0*(LL_cond_H0 - LL_free_H0)\n",
    "t_H1 = -2.0*(LL_cond_H1 - LL_free_H1) "
   ]
  },
  {
   "cell_type": "code",
   "execution_count": 17,
   "metadata": {},
   "outputs": [
    {
     "data": {
      "text/plain": [
       "<matplotlib.legend.Legend at 0x287307f6dd8>"
      ]
     },
     "execution_count": 17,
     "metadata": {},
     "output_type": "execute_result"
    },
    {
     "data": {
      "image/png": "[encoded data removed]",
      "text/plain": [
       "<Figure size 432x288 with 1 Axes>"
      ]
     },
     "metadata": {
      "needs_background": "light"
     },
     "output_type": "display_data"
    }
   ],
   "source": [
    "f,a = plt.subplots()\n",
    "a.hist(t_H0, bins=20, alpha=0.4, label='H0')\n",
    "a.hist(t_H1, bins=20, alpha=0.4, label='H1')\n",
    "a.set_xlabel('t')\n",
    "a.legend()"
   ]
  }
 ],
 "metadata": {
  "kernelspec": {
   "display_name": "Python 3",
   "language": "python",
   "name": "python3"
  },
  "language_info": {
   "codemirror_mode": {
    "name": "ipython",
    "version": 3
   },
   "file_extension": ".py",
   "mimetype": "text/x-python",
   "name": "python",
   "nbconvert_exporter": "python",
   "pygments_lexer": "ipython3",
   "version": "3.7.0"
  }
 },
 "nbformat": 4,
 "nbformat_minor": 2
}
